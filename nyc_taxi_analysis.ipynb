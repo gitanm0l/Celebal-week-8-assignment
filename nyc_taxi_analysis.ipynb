# Import libraries
from pyspark.sql import SparkSession
from pyspark.sql.functions import col, sum, avg, count, row_number, to_date, unix_timestamp
from pyspark.sql.window import Window

# Create Spark session
spark = SparkSession.builder.appName("NYC Taxi Analysis").getOrCreate()

# Load CSV file (update path if needed)
df = spark.read.csv("/mnt/data/yellow_tripdata_2020-01.csv", header=True, inferSchema=True)
df.printSchema()
df.show(5)

# Query 1 - Add a Revenue column
df_with_revenue = df.withColumn("Revenue", 
    col("fare_amount") + col("extra") + col("mta_tax") +
    col("improvement_surcharge") + col("tip_amount") +
    col("tolls_amount") + col("total_amount"))
df_with_revenue.select("fare_amount", "extra", "mta_tax", "tip_amount", "tolls_amount", "total_amount", "Revenue").show(5)

# Query 2 - Increasing count of total passengers in NYC by area (pickup location)
passenger_count_by_area = df.groupBy("PULocationID").agg(
    sum("passenger_count").alias("Total_Passengers")
).orderBy("Total_Passengers", ascending=False)
passenger_count_by_area.show(10)

# Query 3 - Average fare and total earning amount earned by each vendor
vendor_earnings = df.groupBy("VendorID").agg(
    avg("fare_amount").alias("Average_Fare"),
    sum("total_amount").alias("Total_Earnings")
)
vendor_earnings.show()

# Query 4 - Count of payments made by each payment mode
payment_type_counts = df.groupBy("payment_type").agg(
    count("*").alias("Payment_Count")
)
payment_type_counts.show()

# Query 5 - Highest 2 gaining vendors on a particular date with passengers & distance
df_with_date = df.withColumn("trip_date", to_date("tpep_pickup_datetime"))
vendor_daily = df_with_date.groupBy("VendorID", "trip_date").agg(
    sum("total_amount").alias("daily_earnings"),
    sum("passenger_count").alias("total_passengers"),
    sum("trip_distance").alias("total_distance")
)

windowSpec = Window.partitionBy("trip_date").orderBy(col("daily_earnings").desc())
top_2_vendors_per_day = vendor_daily.withColumn("rank", row_number().over(windowSpec)).filter("rank <= 2")
top_2_vendors_per_day.select("trip_date", "VendorID", "daily_earnings", "total_passengers", "total_distance").show()

# Query 6 - Route with the most passengers
most_popular_route = df.groupBy("PULocationID", "DOLocationID").agg(
    sum("passenger_count").alias("Total_Passengers")
).orderBy("Total_Passengers", ascending=False)
most_popular_route.show(1)

# Query 7 - Top pickup locations with most passengers in last 5–10 seconds (relative logic)
df_with_ts = df.withColumn("pickup_ts", unix_timestamp("tpep_pickup_datetime"))
latest_pickups = df_with_ts.filter("pickup_ts >= unix_timestamp() - 10")
top_recent_pickups = latest_pickups.groupBy("PULocationID").agg(
    sum("passenger_count").alias("Recent_Passengers")
).orderBy("Recent_Passengers", ascending=False)
top_recent_pickups.show()
